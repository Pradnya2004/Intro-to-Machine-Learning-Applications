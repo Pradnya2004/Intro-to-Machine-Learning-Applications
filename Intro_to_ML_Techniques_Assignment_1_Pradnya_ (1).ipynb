{
  "nbformat": 4,
  "nbformat_minor": 0,
  "metadata": {
    "colab": {
      "provenance": []
    },
    "kernelspec": {
      "name": "python3",
      "display_name": "Python 3"
    },
    "language_info": {
      "name": "python"
    }
  },
  "cells": [
    {
      "cell_type": "code",
      "execution_count": null,
      "metadata": {
        "id": "Jmy3eHXaver1"
      },
      "outputs": [],
      "source": [
        "\"\"\"\n",
        "MatSoc: Intro to ML Techniques\n",
        "Assignment 1\n",
        "Deadline: Wednesday, 27 December 2023, 23:59 IST\n",
        "\n",
        "Name:Pradnya Govil\n",
        "Roll Number:220778\n",
        "IITK Email:pradnyag22@iitk.ac.in\n",
        "\n",
        "Part A:\n",
        "\n",
        "I.\n",
        "\n",
        "1. Plot x vs y scatter plot for the given dataset\n",
        "2. Plot the histogram of the y values\n",
        "3. Clean the data by removing outliers and nan value containing datapoints\n",
        "4. Plot a histogram for y values before and after cleaning the data.\n",
        "5. Split the data into train and test with 85% of the data used for training\n",
        "\n",
        "II.\n",
        "\n",
        "1. Implement the following function:\n",
        "\n",
        "  def gradient_descent(x,y,alpha=learning_rate,epochs=number of iteratrions)\n",
        "\n",
        "  The function should return two parameter values (a,b)\n",
        "  corresponding to the model  ŷ=a*x+b\n",
        "\n",
        "2. Plot the histogram with the residuals (y- ŷ) after model training for the\n",
        "   original and predicted values\n",
        "\n",
        "3. Plot the  ŷ vs x (line chart), preferrably on top of a y vs x scatter plot\n",
        "\n",
        "  Note that the code for all of part A must be visible\n",
        "\n",
        "  Preferrably use pandas for data cleaning and matplotlib for plotting\n",
        "\n",
        "  Make sure all the code is run before you submit the notebook\n",
        "\n",
        "Part B:\n",
        "\n",
        "    1. Report the parameter values after training on the given data\n",
        "       the target variable is 'y' and there is only one feature 'x'\n",
        "    2. Report the MSE value for your model after training\n",
        "    3. What do you think is the ideal ratio for train data if we are splitting\n",
        "       the data into train and test datasets? Is the answer same irrespective of\n",
        "       the size of the dataset? What percent would you take for training\n",
        "       if your dataset has 1 feature, 1 target and 250 data points, what would\n",
        "       you do if it had 10,000 data points instead of 250 data points\n",
        "\n",
        "      Note that there is no single correct answer for part B\n",
        "\n",
        "\"\"\""
      ]
    },
    {
      "cell_type": "code",
      "source": [
        "from google.colab import files\n",
        "\n",
        "\n",
        "uploaded = files.upload()"
      ],
      "metadata": {
        "colab": {
          "base_uri": "https://localhost:8080/",
          "height": 73
        },
        "id": "SwD_XhyvGKMa",
        "outputId": "03db1557-8fe7-4be5-d26b-b246f3306229"
      },
      "execution_count": null,
      "outputs": [
        {
          "output_type": "display_data",
          "data": {
            "text/plain": [
              "<IPython.core.display.HTML object>"
            ],
            "text/html": [
              "\n",
              "     <input type=\"file\" id=\"files-f79c1f02-1dab-41aa-9a0a-8f696503ce57\" name=\"files[]\" multiple disabled\n",
              "        style=\"border:none\" />\n",
              "     <output id=\"result-f79c1f02-1dab-41aa-9a0a-8f696503ce57\">\n",
              "      Upload widget is only available when the cell has been executed in the\n",
              "      current browser session. Please rerun this cell to enable.\n",
              "      </output>\n",
              "      <script>// Copyright 2017 Google LLC\n",
              "//\n",
              "// Licensed under the Apache License, Version 2.0 (the \"License\");\n",
              "// you may not use this file except in compliance with the License.\n",
              "// You may obtain a copy of the License at\n",
              "//\n",
              "//      http://www.apache.org/licenses/LICENSE-2.0\n",
              "//\n",
              "// Unless required by applicable law or agreed to in writing, software\n",
              "// distributed under the License is distributed on an \"AS IS\" BASIS,\n",
              "// WITHOUT WARRANTIES OR CONDITIONS OF ANY KIND, either express or implied.\n",
              "// See the License for the specific language governing permissions and\n",
              "// limitations under the License.\n",
              "\n",
              "/**\n",
              " * @fileoverview Helpers for google.colab Python module.\n",
              " */\n",
              "(function(scope) {\n",
              "function span(text, styleAttributes = {}) {\n",
              "  const element = document.createElement('span');\n",
              "  element.textContent = text;\n",
              "  for (const key of Object.keys(styleAttributes)) {\n",
              "    element.style[key] = styleAttributes[key];\n",
              "  }\n",
              "  return element;\n",
              "}\n",
              "\n",
              "// Max number of bytes which will be uploaded at a time.\n",
              "const MAX_PAYLOAD_SIZE = 100 * 1024;\n",
              "\n",
              "function _uploadFiles(inputId, outputId) {\n",
              "  const steps = uploadFilesStep(inputId, outputId);\n",
              "  const outputElement = document.getElementById(outputId);\n",
              "  // Cache steps on the outputElement to make it available for the next call\n",
              "  // to uploadFilesContinue from Python.\n",
              "  outputElement.steps = steps;\n",
              "\n",
              "  return _uploadFilesContinue(outputId);\n",
              "}\n",
              "\n",
              "// This is roughly an async generator (not supported in the browser yet),\n",
              "// where there are multiple asynchronous steps and the Python side is going\n",
              "// to poll for completion of each step.\n",
              "// This uses a Promise to block the python side on completion of each step,\n",
              "// then passes the result of the previous step as the input to the next step.\n",
              "function _uploadFilesContinue(outputId) {\n",
              "  const outputElement = document.getElementById(outputId);\n",
              "  const steps = outputElement.steps;\n",
              "\n",
              "  const next = steps.next(outputElement.lastPromiseValue);\n",
              "  return Promise.resolve(next.value.promise).then((value) => {\n",
              "    // Cache the last promise value to make it available to the next\n",
              "    // step of the generator.\n",
              "    outputElement.lastPromiseValue = value;\n",
              "    return next.value.response;\n",
              "  });\n",
              "}\n",
              "\n",
              "/**\n",
              " * Generator function which is called between each async step of the upload\n",
              " * process.\n",
              " * @param {string} inputId Element ID of the input file picker element.\n",
              " * @param {string} outputId Element ID of the output display.\n",
              " * @return {!Iterable<!Object>} Iterable of next steps.\n",
              " */\n",
              "function* uploadFilesStep(inputId, outputId) {\n",
              "  const inputElement = document.getElementById(inputId);\n",
              "  inputElement.disabled = false;\n",
              "\n",
              "  const outputElement = document.getElementById(outputId);\n",
              "  outputElement.innerHTML = '';\n",
              "\n",
              "  const pickedPromise = new Promise((resolve) => {\n",
              "    inputElement.addEventListener('change', (e) => {\n",
              "      resolve(e.target.files);\n",
              "    });\n",
              "  });\n",
              "\n",
              "  const cancel = document.createElement('button');\n",
              "  inputElement.parentElement.appendChild(cancel);\n",
              "  cancel.textContent = 'Cancel upload';\n",
              "  const cancelPromise = new Promise((resolve) => {\n",
              "    cancel.onclick = () => {\n",
              "      resolve(null);\n",
              "    };\n",
              "  });\n",
              "\n",
              "  // Wait for the user to pick the files.\n",
              "  const files = yield {\n",
              "    promise: Promise.race([pickedPromise, cancelPromise]),\n",
              "    response: {\n",
              "      action: 'starting',\n",
              "    }\n",
              "  };\n",
              "\n",
              "  cancel.remove();\n",
              "\n",
              "  // Disable the input element since further picks are not allowed.\n",
              "  inputElement.disabled = true;\n",
              "\n",
              "  if (!files) {\n",
              "    return {\n",
              "      response: {\n",
              "        action: 'complete',\n",
              "      }\n",
              "    };\n",
              "  }\n",
              "\n",
              "  for (const file of files) {\n",
              "    const li = document.createElement('li');\n",
              "    li.append(span(file.name, {fontWeight: 'bold'}));\n",
              "    li.append(span(\n",
              "        `(${file.type || 'n/a'}) - ${file.size} bytes, ` +\n",
              "        `last modified: ${\n",
              "            file.lastModifiedDate ? file.lastModifiedDate.toLocaleDateString() :\n",
              "                                    'n/a'} - `));\n",
              "    const percent = span('0% done');\n",
              "    li.appendChild(percent);\n",
              "\n",
              "    outputElement.appendChild(li);\n",
              "\n",
              "    const fileDataPromise = new Promise((resolve) => {\n",
              "      const reader = new FileReader();\n",
              "      reader.onload = (e) => {\n",
              "        resolve(e.target.result);\n",
              "      };\n",
              "      reader.readAsArrayBuffer(file);\n",
              "    });\n",
              "    // Wait for the data to be ready.\n",
              "    let fileData = yield {\n",
              "      promise: fileDataPromise,\n",
              "      response: {\n",
              "        action: 'continue',\n",
              "      }\n",
              "    };\n",
              "\n",
              "    // Use a chunked sending to avoid message size limits. See b/62115660.\n",
              "    let position = 0;\n",
              "    do {\n",
              "      const length = Math.min(fileData.byteLength - position, MAX_PAYLOAD_SIZE);\n",
              "      const chunk = new Uint8Array(fileData, position, length);\n",
              "      position += length;\n",
              "\n",
              "      const base64 = btoa(String.fromCharCode.apply(null, chunk));\n",
              "      yield {\n",
              "        response: {\n",
              "          action: 'append',\n",
              "          file: file.name,\n",
              "          data: base64,\n",
              "        },\n",
              "      };\n",
              "\n",
              "      let percentDone = fileData.byteLength === 0 ?\n",
              "          100 :\n",
              "          Math.round((position / fileData.byteLength) * 100);\n",
              "      percent.textContent = `${percentDone}% done`;\n",
              "\n",
              "    } while (position < fileData.byteLength);\n",
              "  }\n",
              "\n",
              "  // All done.\n",
              "  yield {\n",
              "    response: {\n",
              "      action: 'complete',\n",
              "    }\n",
              "  };\n",
              "}\n",
              "\n",
              "scope.google = scope.google || {};\n",
              "scope.google.colab = scope.google.colab || {};\n",
              "scope.google.colab._files = {\n",
              "  _uploadFiles,\n",
              "  _uploadFilesContinue,\n",
              "};\n",
              "})(self);\n",
              "</script> "
            ]
          },
          "metadata": {}
        },
        {
          "output_type": "stream",
          "name": "stdout",
          "text": [
            "Saving data.csv to data (1).csv\n"
          ]
        }
      ]
    },
    {
      "cell_type": "code",
      "source": [
        "#Part A\n",
        "#I\n",
        "import pandas as pd\n",
        "import matplotlib.pyplot as plt\n",
        "df=pd.read_csv('data.csv')\n",
        "#1.\n",
        "\n",
        "df.plot.scatter(x='x',y='y')\n",
        "plt.show()\n"
      ],
      "metadata": {
        "colab": {
          "base_uri": "https://localhost:8080/",
          "height": 449
        },
        "id": "OaBDmrLnFPXI",
        "outputId": "e7540d38-cb1a-403b-e767-e3fb798b152d"
      },
      "execution_count": null,
      "outputs": [
        {
          "output_type": "display_data",
          "data": {
            "text/plain": [
              "<Figure size 640x480 with 1 Axes>"
            ],
            "image/png": "[encoded data removed]"
          },
          "metadata": {}
        }
      ]
    },
    {
      "cell_type": "code",
      "source": [
        "#2.\n",
        "df.plot.hist(y='y')\n",
        "plt.ylim(80, 120)"
      ],
      "metadata": {
        "colab": {
          "base_uri": "https://localhost:8080/",
          "height": 452
        },
        "id": "uwr5_zKQIQCD",
        "outputId": "b7b9680e-2c6f-4341-ebf2-06e7199578bf"
      },
      "execution_count": null,
      "outputs": [
        {
          "output_type": "execute_result",
          "data": {
            "text/plain": [
              "(80.0, 120.0)"
            ]
          },
          "metadata": {},
          "execution_count": 7
        },
        {
          "output_type": "display_data",
          "data": {
            "text/plain": [
              "<Figure size 640x480 with 1 Axes>"
            ],
            "image/png": "[encoded data removed]"
          },
          "metadata": {}
        }
      ]
    },
    {
      "cell_type": "code",
      "source": [
        "#3.\n",
        "print('3.It is clearly visible from the dataset that no outliers are present as well as no nan values.')\n",
        "#4.\n",
        "print('4.The histogram plot therefore will be same as before .')"
      ],
      "metadata": {
        "colab": {
          "base_uri": "https://localhost:8080/"
        },
        "id": "WLd2WuUMKb6s",
        "outputId": "837ebb9f-5c7c-40c1-ce4f-c841ef7ab5de"
      },
      "execution_count": null,
      "outputs": [
        {
          "output_type": "stream",
          "name": "stdout",
          "text": [
            "3.It is clearly visible from the dataset that no outliers are present as well as no nan values.\n",
            "4.The histogram plot therefore will be same as before .\n"
          ]
        }
      ]
    },
    {
      "cell_type": "code",
      "source": [
        "#5.\n",
        "from sklearn.model_selection import train_test_split\n",
        "x=df['x']\n",
        "y=df['y']\n",
        "# using the train test split function\n",
        "x_train, x_test, y_train, y_test = train_test_split(x,y,train_size=0.85)\n",
        "\n",
        "#printing the test and train datasets\n",
        "print('x_train : ')\n",
        "print(x_train.head())\n",
        "\n",
        "print('')\n",
        "print('x_test : ')\n",
        "print(x_test.head())\n",
        "\n",
        "print('')\n",
        "print('y_train : ')\n",
        "print(y_train.head())\n",
        "\n",
        "print('')\n",
        "print('y_test : ')\n",
        "print(y_test.head())\n"
      ],
      "metadata": {
        "colab": {
          "base_uri": "https://localhost:8080/"
        },
        "id": "9tNV43vRO6Ub",
        "outputId": "ba75089e-8839-4091-87aa-de62134b71dc"
      },
      "execution_count": null,
      "outputs": [
        {
          "output_type": "stream",
          "name": "stdout",
          "text": [
            "x_train : \n",
            "59      59\n",
            "113    116\n",
            "535    537\n",
            "663    665\n",
            "294    296\n",
            "Name: x, dtype: int64\n",
            "\n",
            "x_test : \n",
            "397    397\n",
            "176    176\n",
            "748    750\n",
            "281    283\n",
            "591    592\n",
            "Name: x, dtype: int64\n",
            "\n",
            "y_train : \n",
            "59      727.00\n",
            "113    1410.88\n",
            "535    6463.84\n",
            "663    7998.40\n",
            "294    3569.92\n",
            "Name: y, dtype: float64\n",
            "\n",
            "y_test : \n",
            "397    4783.48\n",
            "176    2131.12\n",
            "748    9019.12\n",
            "281    3414.40\n",
            "591    7123.84\n",
            "Name: y, dtype: float64\n"
          ]
        }
      ]
    },
    {
      "cell_type": "code",
      "source": [
        "#II.\n",
        "def gradient_descent(x, y, alpha=0.000001, epochs=1000):\n",
        "    a = 0  # initial value\n",
        "    b = 0  # initial value\n",
        "    n = len(x)  # number of samples\n",
        "    alpha2=0.1\n",
        "    for epoch in range(epochs):\n",
        "        # Calculating predicted values\n",
        "        y_pred = a * x + b\n",
        "\n",
        "        # Calculating residuals\n",
        "        residual = y - y_pred\n",
        "\n",
        "        # To Calculate gradients\n",
        "        gradient_a = (-2/n) * sum(x * residual)\n",
        "        gradient_b = (-2/n) * sum(residual)\n",
        "\n",
        "        # Updating parameters using gradients and learning rate (alpha)\n",
        "        a -= alpha * gradient_a\n",
        "        b -= alpha2 * gradient_b\n",
        "\n",
        "    return a, b"
      ],
      "metadata": {
        "id": "BTblBvIHhSuY"
      },
      "execution_count": null,
      "outputs": []
    },
    {
      "cell_type": "code",
      "source": [
        "\n",
        "a, b = gradient_descent(x_train, y_train, alpha=0.000001, epochs=1000)\n",
        "\n",
        "# To Calculate residuals\n",
        "y_pred = a * x_train + b\n",
        "residuals = y_train - y_pred\n",
        "\n",
        "# To Plot histogram of residuals\n",
        "plt.hist(residuals, bins=20)\n",
        "plt.xlabel('Residuals (y - ŷ)')\n",
        "plt.ylabel('Frequency')\n",
        "plt.title('Histogram of Residuals')\n",
        "plt.show()\n"
      ],
      "metadata": {
        "colab": {
          "base_uri": "https://localhost:8080/",
          "height": 472
        },
        "id": "j_k0-w_uvxFh",
        "outputId": "aa66cf3a-6be8-4642-e078-0dedc8ca7314"
      },
      "execution_count": null,
      "outputs": [
        {
          "output_type": "display_data",
          "data": {
            "text/plain": [
              "<Figure size 640x480 with 1 Axes>"
            ],
            "image/png": "[encoded data removed]"
          },
          "metadata": {}
        }
      ]
    },
    {
      "cell_type": "code",
      "source": [
        "\n",
        "a, b = gradient_descent(x, y, alpha=0.000001, epochs=1000)\n",
        "\n",
        "#Calculating predicted values (ŷ)\n",
        "y_pred = a * x + b\n",
        "\n",
        "# Plotting y vs x scatter plot\n",
        "plt.scatter(x, y, label='Actual Data')\n",
        "\n",
        "# Plotting ŷ vs x line chart\n",
        "plt.plot(x, y_pred, color='red', label='Predicted Data')\n",
        "\n",
        "plt.xlabel('x')\n",
        "plt.ylabel('y')\n",
        "plt.title('Actual vs Predicted Data')\n",
        "plt.legend()\n",
        "plt.show()\n"
      ],
      "metadata": {
        "colab": {
          "base_uri": "https://localhost:8080/",
          "height": 472
        },
        "id": "rBMQBpI5hb2O",
        "outputId": "3c56ef20-3eed-4f88-a996-95f122a0e723"
      },
      "execution_count": null,
      "outputs": [
        {
          "output_type": "display_data",
          "data": {
            "text/plain": [
              "<Figure size 640x480 with 1 Axes>"
            ],
            "image/png": "[encoded data removed]"
          },
          "metadata": {}
        }
      ]
    },
    {
      "cell_type": "code",
      "source": [
        "#Part B\n",
        "#1.To find parameters a and b\n",
        "a, b = gradient_descent(x_train, y_train, alpha=0.000001, epochs=1000)\n",
        "print(a,b)"
      ],
      "metadata": {
        "colab": {
          "base_uri": "https://localhost:8080/"
        },
        "id": "msp8dAb97mly",
        "outputId": "d43e199f-57dd-4abf-d1dd-ba1442b89451"
      },
      "execution_count": null,
      "outputs": [
        {
          "output_type": "stream",
          "name": "stdout",
          "text": [
            "11.999958483409682 19.0509019268579\n"
          ]
        }
      ]
    },
    {
      "cell_type": "code",
      "source": [
        "#2.To calculate MSE\n",
        "mse=(1/n)*sum((y-y_pred)**2)\n",
        "print('MSE=',mse)"
      ],
      "metadata": {
        "colab": {
          "base_uri": "https://localhost:8080/"
        },
        "id": "78hBUmDf9oTu",
        "outputId": "6a15e469-0a0d-4ec0-84b7-da2a6e367e40"
      },
      "execution_count": null,
      "outputs": [
        {
          "output_type": "stream",
          "name": "stdout",
          "text": [
            "MSE= 0.44104332556887366\n"
          ]
        }
      ]
    },
    {
      "cell_type": "code",
      "source": [
        "#3.\n",
        "print('75-15 split that is 75 percent for training and 25 percent for test is the ideal allocation. ')\n",
        "print('No,the split might vary according to the size of the dataset. ')\n",
        "print('For a dataset with 1 feature, 1 target, and 250 data points,a split like 80-20 or 70-30 could be suitable where 80 and 70 percent data is used for training.\\nFor a larger dataset that is with 10,000 data points a split like 90-10 or 85-15 might be reasonable.')\n",
        "\n"
      ],
      "metadata": {
        "colab": {
          "base_uri": "https://localhost:8080/"
        },
        "id": "VqUEfRqIR_jB",
        "outputId": "bcc3accc-bd2b-4745-c51f-df56e480a290"
      },
      "execution_count": null,
      "outputs": [
        {
          "output_type": "stream",
          "name": "stdout",
          "text": [
            "75-15 split that is 75 percent for training and 25 percent for test is the ideal allocation. \n",
            "No,the split might vary according to the size of the dataset. \n",
            "For a dataset with 1 feature, 1 target, and 250 data points,a split like 80-20 or 70-30 could be suitable where 80 and 70 percent data is used for training.\n",
            "For a larger dataset that is with 10,000 data points a split like 90-10 or 85-15 might be reasonable.\n"
          ]
        }
      ]
    }
  ]
}